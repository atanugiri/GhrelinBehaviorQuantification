{
 "cells": [
  {
   "cell_type": "markdown",
   "id": "0",
   "metadata": {},
   "source": [
    "## Add project root"
   ]
  },
  {
   "cell_type": "code",
   "execution_count": null,
   "id": "1",
   "metadata": {},
   "outputs": [],
   "source": [
    "import sys\n",
    "from pathlib import Path\n",
    "import importlib\n",
    "\n",
    "# Add the parent of the *outer* DLC-Jupyter-Notebooks folder to sys.path\n",
    "project_root = Path().resolve().parents[0]  # This is /Users/atanugiri/Downloads/GhrelinBehaviorQuantification\n",
    "print(project_root)\n",
    "sys.path.append(str(project_root))\n"
   ]
  },
  {
   "cell_type": "markdown",
   "id": "2",
   "metadata": {},
   "source": [
    "## Connect to db"
   ]
  },
  {
   "cell_type": "code",
   "execution_count": null,
   "id": "3",
   "metadata": {},
   "outputs": [],
   "source": [
    "import psycopg2\n",
    "import platform\n",
    "\n",
    "host = \"localhost\" if platform.system() == \"Windows\" else \"129.108.49.49\"\n",
    "conn = psycopg2.connect(\n",
    "    dbname=\"deeplabcut_db\", user=\"postgres\", \n",
    "    password=\"1234\", host=host, port=\"5432\")\n",
    "cursor = conn.cursor()\n"
   ]
  },
  {
   "cell_type": "markdown",
   "id": "4",
   "metadata": {},
   "source": [
    "## Import modules"
   ]
  },
  {
   "cell_type": "code",
   "execution_count": null,
   "id": "5",
   "metadata": {},
   "outputs": [],
   "source": [
    "import importlib\n",
    "import Python_scripts.Data_analysis.fetch_id_list as fetch_mod\n",
    "importlib.reload(fetch_mod)\n",
    "from Python_scripts.Data_analysis.fetch_id_list import fetch_id_list\n"
   ]
  },
  {
   "cell_type": "code",
   "execution_count": null,
   "id": "6",
   "metadata": {},
   "outputs": [],
   "source": [
    "import importlib\n",
    "import Python_scripts.Feature_functions.accel_outliers\n",
    "import Python_scripts.Data_analysis.plot_groupwise_bar\n",
    "\n",
    "importlib.reload(Python_scripts.Feature_functions.accel_outliers)\n",
    "importlib.reload(Python_scripts.Data_analysis.plot_groupwise_bar)\n",
    "\n",
    "from Python_scripts.Feature_functions.accel_outliers import (\n",
    "    _mad, accel_outlier_mask, _get_trial_meta, accel_outliers_for_trial, batch_accel_outliers\n",
    ")\n",
    "from Python_scripts.Data_analysis.plot_groupwise_bar import plot_groupwise_bar\n"
   ]
  },
  {
   "cell_type": "markdown",
   "id": "7",
   "metadata": {},
   "source": [
    "## Fetch id list"
   ]
  },
  {
   "cell_type": "code",
   "execution_count": null,
   "id": "8",
   "metadata": {},
   "outputs": [],
   "source": [
    "task_name = \"FoodLight\"\n",
    "bad_id = [549, 559, 566, 567, 570, 571, 595, 617, 621, 638, 640, 36]\n",
    "\n",
    "saline_id, ghrelin_id, exc_id, inh_id = fetch_id_list(\n",
    "    conn,\n",
    "    task_name=task_name, #['FoodLight', 'ToyOnly', 'ToyLight', 'LightOnly'],\n",
    "    dose_mult=2,\n",
    "    genotype=\"white\",\n",
    "    bad_ids=bad_id,\n",
    "    csv_prefix=\"dlc_table\",   # -> dlc_table_saline.csv, dlc_table_ghrelin.csv, ...\n",
    "    min_trial_length=None     # or 600\n",
    ")\n",
    "\n",
    "print(f\"saline_id: {saline_id}\\n\")\n",
    "print(f\"ghrelin_id: {ghrelin_id}\\n\")\n",
    "print(f\"exc_id: {exc_id}\\n\")\n",
    "print(f\"inh_id: {inh_id}\\n\")\n"
   ]
  },
  {
   "cell_type": "code",
   "execution_count": null,
   "id": "9",
   "metadata": {},
   "outputs": [],
   "source": [
    "import numpy as np\n",
    "from Python_scripts.Feature_functions.accel_outliers import _mad\n",
    "\n",
    "# Case 1: clean data, no big spikes\n",
    "arr_no_outliers = np.array([1, 2, 3, 4, 5, 6, 7, 8, 9], dtype=float)\n",
    "\n",
    "# Case 2: same data but with one huge outlier\n",
    "arr_with_outlier = np.array([1, 2, 3, 4, 5, 6, 7, 8, 50], dtype=float)\n",
    "\n",
    "# Compute standard deviation and MAD\n",
    "def compare_stats(arr):\n",
    "    mad = _mad(arr)\n",
    "    std = np.std(arr, ddof=0)  # population std\n",
    "    return mad, std\n",
    "\n",
    "mad_no, std_no = compare_stats(arr_no_outliers)\n",
    "mad_out, std_out = compare_stats(arr_with_outlier)\n",
    "\n",
    "print(\"=== Without outlier ===\")\n",
    "print(\"MAD =\", mad_no, \" | Std =\", std_no)\n",
    "\n",
    "print(\"\\n=== With one outlier (50) ===\")\n",
    "print(\"MAD =\", mad_out, \" | Std =\", std_out)\n"
   ]
  },
  {
   "cell_type": "markdown",
   "id": "10",
   "metadata": {},
   "source": [
    "## Calculate acceleration"
   ]
  },
  {
   "cell_type": "markdown",
   "id": "11",
   "metadata": {},
   "source": [
    "### Batch call with different input parameter sweep"
   ]
  },
  {
   "cell_type": "code",
   "execution_count": null,
   "id": "12",
   "metadata": {
    "jupyter": {
     "outputs_hidden": true
    }
   },
   "outputs": [],
   "source": [
    "import numpy as np\n",
    "import pandas as pd\n",
    "import matplotlib.pyplot as plt\n",
    "from matplotlib.backends.backend_pdf import PdfPages\n",
    "\n",
    "# --- Configure once ---\n",
    "bodypart = 'Midback'          # or 'Midback'\n",
    "time_limit = None          # e.g., 120 for first 2 minutes; None for full trial\n",
    "smooth = True              # IMPORTANT: set True, otherwise 'window' has no effect\n",
    "window_range = range(5, 26, 5)  # 11,15,19,23,27\n",
    "\n",
    "# Put every group you *might* use here; leave others as None or [] when not needed.\n",
    "group_specs = {\n",
    "    \"Saline\":  saline_id,\n",
    "    \"Ghrelin\": ghrelin_id,\n",
    "    # \"Inhibitory\": inh_id,\n",
    "    # \"Excitatory\": exc_id,\n",
    "}\n",
    "# Keep only defined & non-empty groups\n",
    "group_specs = {label: ids for label, ids in group_specs.items() if ids not in (None, [], ())}\n",
    "\n",
    "outfile = f\"White_2X_{task_name}_{bodypart}_velocity_window_sweep.pdf\"\n",
    "with PdfPages(outfile) as pdf:\n",
    "    for window_size in window_range:\n",
    "        print(f\"[INFO] Analyzing window_size = {window_size}\")\n",
    "\n",
    "        # Compute all groups for this window size\n",
    "        frames = []\n",
    "        for label, ids in group_specs.items():\n",
    "            df = batch_compute_motion_features_per_minute(\n",
    "                conn, ids,\n",
    "                bodypart=bodypart,\n",
    "                time_limit=time_limit,\n",
    "                smooth=smooth,\n",
    "                window=window_size,\n",
    "                # min_duration_s=5.0,  # keep default unless you want to drop very short trials\n",
    "            )\n",
    "            # Keep what we need; add group label\n",
    "            df = df[['trial_id', 'velocity_per_min']].copy().dropna()\n",
    "            df['group'] = label\n",
    "            frames.append(df)\n",
    "\n",
    "        if not frames:\n",
    "            print(\"[WARN] No groups provided—skipping this window.\")\n",
    "            continue\n",
    "\n",
    "        df_vel = pd.concat(frames, ignore_index=True)\n",
    "\n",
    "        # Plot (your existing plotter)\n",
    "        order = list(group_specs.keys())\n",
    "        fig, ax = plot_groupwise_bar(\n",
    "            df_vel,\n",
    "            y='velocity_per_min',\n",
    "            ylabel='Average speed (units/min)',\n",
    "            plot_type='bar',\n",
    "            show_points=False,\n",
    "            order=order,\n",
    "            show_stats=True,\n",
    "            tests_to_show=(\"ranksums\", \"ttest\", \"anova\")  # if supported\n",
    "        )\n",
    "        ax.set_title(f\"{task_name} | {bodypart} | window={window_size}\", pad=20)\n",
    "\n",
    "        pdf.savefig(fig, bbox_inches='tight')\n",
    "        plt.close(fig)\n",
    "\n",
    "print(f\"[✓] Saved {outfile}\")\n"
   ]
  },
  {
   "cell_type": "markdown",
   "id": "13",
   "metadata": {},
   "source": [
    "### Single call with fixed hyper parameters"
   ]
  },
  {
   "cell_type": "code",
   "execution_count": null,
   "id": "14",
   "metadata": {},
   "outputs": [],
   "source": [
    "import numpy as np\n",
    "import pandas as pd\n",
    "import matplotlib.pyplot as plt\n",
    "\n",
    "# --- Configure once ---\n",
    "bodypart = 'Midback'\n",
    "time_limit = None\n",
    "smooth = False\n",
    "window = 5  # smoothing window for compute_motion_features (if smooth=True)\n",
    "\n",
    "# Put every group we *might* use here; leave others as None or [] when not needed.\n",
    "group_specs = {\n",
    "    \"Saline\":  saline_id,    # lists/arrays of trial IDs, defined earlier\n",
    "    \"Ghrelin\": ghrelin_id,\n",
    "    # \"Inhibitory\": inh_id,\n",
    "    # \"Excitatory\": exc_id,\n",
    "}\n",
    "\n",
    "# Keep only defined & non-empty groups\n",
    "group_specs = {label: ids for label, ids in group_specs.items() if ids not in (None, [], ())}\n",
    "\n",
    "# Compute all groups\n",
    "frames = []\n",
    "for label, ids in group_specs.items():\n",
    "    df = batch_accel_outliers(\n",
    "        conn, ids,\n",
    "        bodypart=bodypart,\n",
    "        time_limit=time_limit,\n",
    "        smooth=smooth,\n",
    "        window=window,\n",
    "        # min_duration_s=5.0,\n",
    "    )\n",
    "    # Keep just what we need for plotting; add group label\n",
    "    df = df[['trial_id', 'rate_per_min']].copy()\n",
    "    df['group'] = label\n",
    "    frames.append(df)\n",
    "\n",
    "if not frames:\n",
    "    raise ValueError(\"[WARN] No groups provided—nothing to plot.\")\n",
    "\n",
    "df_accel = pd.concat(frames, ignore_index=True)\n",
    "df_accel = df_accel.rename(columns={\"rate_per_min\": \"accel_outlier_rate\"})\n",
    "df_accel = df_accel.dropna(subset=['accel_outlier_rate'])\n",
    "\n",
    "# Plot (uses your existing plotter)\n",
    "order = list(group_specs.keys())  # consistent ordering across pages\n",
    "fig, ax = plot_groupwise_bar(\n",
    "    df_accel,\n",
    "    y='accel_outlier_rate',\n",
    "    ylabel='Acceleration outlier rate (spikes/min)',\n",
    "    plot_type='bar',\n",
    "    show_points=True,\n",
    "    order=order,\n",
    "    show_stats=True,\n",
    "    tests_to_show=(\"ranksums\", \"ttest\", \"anova\")  # optional, if your function supports it\n",
    ")\n",
    "\n",
    "ax.set_title(f\"{task_name} | {bodypart} | window={window}\", pad=20)\n",
    "\n",
    "fig.savefig(f\"White_2X_Modulation_{task_name}_velocity.pdf\", dpi=300, bbox_inches='tight')\n"
   ]
  },
  {
   "cell_type": "code",
   "execution_count": null,
   "id": "15",
   "metadata": {},
   "outputs": [],
   "source": []
  }
 ],
 "metadata": {
  "kernelspec": {
   "display_name": "Python (gastric)",
   "language": "python",
   "name": "gastric"
  },
  "language_info": {
   "codemirror_mode": {
    "name": "ipython",
    "version": 3
   },
   "file_extension": ".py",
   "mimetype": "text/x-python",
   "name": "python",
   "nbconvert_exporter": "python",
   "pygments_lexer": "ipython3",
   "version": "3.10.13"
  }
 },
 "nbformat": 4,
 "nbformat_minor": 5
}
