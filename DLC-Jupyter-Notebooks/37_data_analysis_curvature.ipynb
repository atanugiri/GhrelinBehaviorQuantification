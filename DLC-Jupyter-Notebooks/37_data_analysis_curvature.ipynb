{
 "cells": [
  {
   "cell_type": "markdown",
   "id": "0",
   "metadata": {},
   "source": [
    "## Add project root"
   ]
  },
  {
   "cell_type": "code",
   "execution_count": null,
   "id": "1",
   "metadata": {},
   "outputs": [],
   "source": [
    "import sys\n",
    "from pathlib import Path\n",
    "import importlib\n",
    "\n",
    "# Add the parent of the *outer* DLC-Jupyter-Notebooks folder to sys.path\n",
    "project_root = Path().resolve().parents[0]  # This is /Users/atanugiri/Downloads/GhrelinBehaviorQuantification\n",
    "print(project_root)\n",
    "sys.path.append(str(project_root))\n"
   ]
  },
  {
   "cell_type": "markdown",
   "id": "2",
   "metadata": {},
   "source": [
    "## Connect to db"
   ]
  },
  {
   "cell_type": "code",
   "execution_count": null,
   "id": "3",
   "metadata": {},
   "outputs": [],
   "source": [
    "import psycopg2\n",
    "import platform\n",
    "\n",
    "host = \"localhost\" if platform.system() == \"Windows\" else \"129.108.49.49\"\n",
    "conn = psycopg2.connect(\n",
    "    dbname=\"deeplabcut_db\", user=\"postgres\", \n",
    "    password=\"1234\", host=host, port=\"5432\")\n",
    "cursor = conn.cursor()\n"
   ]
  },
  {
   "cell_type": "markdown",
   "id": "4",
   "metadata": {},
   "source": [
    "## Fetch id list"
   ]
  },
  {
   "cell_type": "code",
   "execution_count": null,
   "id": "5",
   "metadata": {},
   "outputs": [],
   "source": [
    "import importlib\n",
    "import Python_scripts.Data_analysis.fetch_id_list as fetch_mod\n",
    "importlib.reload(fetch_mod)\n",
    "from Python_scripts.Data_analysis.fetch_id_list import fetch_id_list\n"
   ]
  },
  {
   "cell_type": "code",
   "execution_count": null,
   "id": "6",
   "metadata": {},
   "outputs": [],
   "source": [
    "task_name = \"AllTask\"\n",
    "bad_id = [549, 559, 566, 567, 570, 571, 595, 617, 621, 638, 640, 36]\n",
    "\n",
    "saline_id, ghrelin_id, exc_id, inh_id = fetch_id_list(\n",
    "    conn,\n",
    "    task_name=None, #['FoodLight', 'ToyOnly', 'ToyLight', 'LightOnly'],\n",
    "    dose_mult=2,\n",
    "    genotype=\"white\",\n",
    "    bad_ids=bad_id,\n",
    "    csv_prefix=\"dlc_table\",   # -> dlc_table_saline.csv, dlc_table_ghrelin.csv, ...\n",
    "    min_trial_length=None     # or 600\n",
    ")\n",
    "\n",
    "print(f\"saline_id: {saline_id}\\n\")\n",
    "print(f\"ghrelin_id: {ghrelin_id}\\n\")\n",
    "print(f\"exc_id: {exc_id}\\n\")\n",
    "print(f\"inh_id: {inh_id}\\n\")\n"
   ]
  },
  {
   "cell_type": "markdown",
   "id": "7",
   "metadata": {},
   "source": [
    "## Calculate curvature"
   ]
  },
  {
   "cell_type": "code",
   "execution_count": null,
   "id": "8",
   "metadata": {},
   "outputs": [],
   "source": [
    "import importlib\n",
    "import Python_scripts.Feature_functions.trajectory_curvature\n",
    "import Python_scripts.Data_analysis.plot_groupwise_bar\n",
    "import Python_scripts.Data_analysis.compare_distributions\n",
    "\n",
    "importlib.reload(Python_scripts.Feature_functions.trajectory_curvature)\n",
    "importlib.reload(Python_scripts.Data_analysis.plot_groupwise_bar)\n",
    "importlib.reload(Python_scripts.Data_analysis.compare_distributions)\n",
    "\n",
    "from Python_scripts.Feature_functions.trajectory_curvature import (\n",
    "    compute_trajectory_curvature, batch_trajectory_curvature\n",
    ")\n",
    "from Python_scripts.Data_analysis.plot_groupwise_bar import plot_groupwise_bar\n",
    "from Python_scripts.Data_analysis.compare_distributions import compare_distributions\n"
   ]
  },
  {
   "cell_type": "markdown",
   "id": "9",
   "metadata": {},
   "source": [
    "## Batch call with different input parameter sweep"
   ]
  },
  {
   "cell_type": "code",
   "execution_count": null,
   "id": "10",
   "metadata": {
    "jupyter": {
     "outputs_hidden": true
    }
   },
   "outputs": [],
   "source": [
    "import numpy as np\n",
    "import pandas as pd\n",
    "import matplotlib.pyplot as plt\n",
    "from matplotlib.backends.backend_pdf import PdfPages\n",
    "\n",
    "# --- Configure once ---\n",
    "bodypart = 'Midback'\n",
    "ycol = 'mean_curvature'\n",
    "window_range = range(11, 28, 4)\n",
    "\n",
    "# Put every group you *might* use here; leave others as None or [] when not needed.\n",
    "group_specs = {\n",
    "    \"Saline\":    saline_id,   # e.g., list/array of trial IDs\n",
    "    \"Ghrelin\":   ghrelin_id,\n",
    "    # \"Inhibitory\": inh_id,\n",
    "    # \"Excitatory\": exc_id,\n",
    "}\n",
    "\n",
    "# Keep only defined & non-empty groups\n",
    "group_specs = {label: ids for label, ids in group_specs.items() if ids not in (None, [], ())}\n",
    "\n",
    "outfile = f\"White_10X_{task_name}_curvature_window_sweep.pdf\"\n",
    "with PdfPages(outfile) as pdf:\n",
    "    for window_size in window_range:\n",
    "        print(f\"[INFO] Analyzing window_size = {window_size}\")\n",
    "\n",
    "        # Compute all groups for this window size\n",
    "        frames = []\n",
    "        for label, ids in group_specs.items():\n",
    "            df = batch_trajectory_curvature(\n",
    "                conn, ids, bodypart=bodypart, window=window_size\n",
    "            )\n",
    "            df[\"group\"] = label\n",
    "            frames.append(df)\n",
    "\n",
    "        if not frames:\n",
    "            print(\"[WARN] No groups provided—skipping this window.\")\n",
    "            continue\n",
    "\n",
    "        df_curv = pd.concat(frames, ignore_index=True)\n",
    "\n",
    "        # Plot\n",
    "        order = list(group_specs.keys())  # consistent ordering across pages\n",
    "        fig, ax = plot_groupwise_bar(\n",
    "            df_curv, y='mean_curvature',\n",
    "            ylabel='Mean curvature',\n",
    "            plot_type='bar', show_points=False,\n",
    "            order=order, show_stats=True,\n",
    "            tests_to_show=(\"ranksums\",\"ttest\", \"anova\")  # optional\n",
    "        )\n",
    "\n",
    "        ax.set_title(f\"{task_name} | window size = {window_size:d}\", pad=20)\n",
    "\n",
    "        pdf.savefig(fig, bbox_inches='tight')\n",
    "        plt.close(fig)\n",
    "\n",
    "print(f\"[✓] Saved {outfile}\")\n"
   ]
  },
  {
   "cell_type": "markdown",
   "id": "11",
   "metadata": {},
   "source": [
    "## Single call with fixed hyper parameters"
   ]
  },
  {
   "cell_type": "code",
   "execution_count": null,
   "id": "12",
   "metadata": {},
   "outputs": [],
   "source": [
    "import numpy as np\n",
    "import pandas as pd\n",
    "import matplotlib.pyplot as plt\n",
    "from matplotlib.backends.backend_pdf import PdfPages\n",
    "\n",
    "# --- Configure once ---\n",
    "bodypart = 'Midback'\n",
    "ycol = 'mean_curvature'\n",
    "window_size = 23\n",
    "\n",
    "# Put every group you *might* use here; leave others as None or [] when not needed.\n",
    "group_specs = {\n",
    "    \"Saline\":    saline_id,   # e.g., list/array of trial IDs\n",
    "    # \"Ghrelin\":   ghrelin_id,\n",
    "    \"Inhibitory\": inh_id,\n",
    "    \"Excitatory\": exc_id,\n",
    "}\n",
    "\n",
    "# Keep only defined & non-empty groups\n",
    "group_specs = {label: ids for label, ids in group_specs.items() if ids not in (None, [], ())}\n",
    "\n",
    "# Compute all groups for this window size\n",
    "frames = []\n",
    "for label, ids in group_specs.items():\n",
    "    df = batch_trajectory_curvature(\n",
    "        conn, ids, bodypart=bodypart, window=window_size\n",
    "    )\n",
    "    df[\"group\"] = label\n",
    "    frames.append(df)\n",
    "\n",
    "if not frames:\n",
    "    print(\"[WARN] No groups provided—skipping this window.\")\n",
    "    sys.exit(0)\n",
    "\n",
    "df_curv = pd.concat(frames, ignore_index=True)\n",
    "\n",
    "# Plot\n",
    "order = list(group_specs.keys())  # consistent ordering across pages\n",
    "fig, ax = plot_groupwise_bar(\n",
    "    df_curv, y='mean_curvature',\n",
    "    ylabel='Mean curvature',\n",
    "    plot_type='bar', show_points=False,\n",
    "    order=order, show_stats=True,\n",
    "    tests_to_show=(\"ranksums\",\"ttest\", \"anova\")  # optional\n",
    ")\n",
    "\n",
    "ax.set_title(f\"{task_name} | window size = {window_size:d}\", pad=20)\n",
    "\n",
    "fig.savefig(f\"White_{task_name}_modulation_curvature.pdf\", dpi=300, bbox_inches='tight')\n"
   ]
  },
  {
   "cell_type": "code",
   "execution_count": null,
   "id": "13",
   "metadata": {},
   "outputs": [],
   "source": []
  }
 ],
 "metadata": {
  "kernelspec": {
   "display_name": "Python (gastric)",
   "language": "python",
   "name": "gastric"
  },
  "language_info": {
   "codemirror_mode": {
    "name": "ipython",
    "version": 3
   },
   "file_extension": ".py",
   "mimetype": "text/x-python",
   "name": "python",
   "nbconvert_exporter": "python",
   "pygments_lexer": "ipython3",
   "version": "3.10.13"
  }
 },
 "nbformat": 4,
 "nbformat_minor": 5
}
