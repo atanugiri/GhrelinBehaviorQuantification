{
 "cells": [
  {
   "cell_type": "markdown",
   "id": "0",
   "metadata": {},
   "source": [
    "## Set system path"
   ]
  },
  {
   "cell_type": "code",
   "execution_count": null,
   "id": "1",
   "metadata": {},
   "outputs": [],
   "source": [
    "import sys\n",
    "from pathlib import Path\n",
    "import importlib\n",
    "\n",
    "# Add the parent of the *outer* DLC-Jupyter-Notebooks folder to sys.path\n",
    "project_root = Path().resolve().parents[0]  # This is /Users/atanugiri/Downloads/DLC-Jupyter-Notebooks\n",
    "sys.path.append(str(project_root))\n"
   ]
  },
  {
   "cell_type": "markdown",
   "id": "2",
   "metadata": {},
   "source": [
    "## Connect to db"
   ]
  },
  {
   "cell_type": "code",
   "execution_count": null,
   "id": "3",
   "metadata": {},
   "outputs": [],
   "source": [
    "import psycopg2\n",
    "import platform\n",
    "\n",
    "host = \"localhost\" if platform.system() == \"Windows\" else \"129.108.49.49\"\n",
    "conn = psycopg2.connect(\n",
    "    dbname=\"deeplabcut_db\", user=\"postgres\", \n",
    "    password=\"1234\", host=host, port=\"5432\")\n",
    "cursor = conn.cursor()\n"
   ]
  },
  {
   "cell_type": "code",
   "execution_count": null,
   "id": "4",
   "metadata": {},
   "outputs": [],
   "source": [
    "query = \"SELECT DISTINCT(task) FROM dlc_table;\"\n",
    "df = pd.read_sql_query(query, conn)\n",
    "\n",
    "print(df)"
   ]
  },
  {
   "cell_type": "markdown",
   "id": "5",
   "metadata": {},
   "source": [
    "## Import plot_feature_barplot function "
   ]
  },
  {
   "cell_type": "code",
   "execution_count": null,
   "id": "6",
   "metadata": {},
   "outputs": [],
   "source": [
    "import Python_scripts.Data_analysis.plot_feature_barplot\n",
    "import Python_scripts.Data_analysis.plot_feature_histogram_and_boxplot\n",
    "\n",
    "importlib.reload(Python_scripts.Data_analysis.plot_feature_barplot)\n",
    "importlib.reload(Python_scripts.Data_analysis.plot_feature_histogram_and_boxplot)\n",
    "\n",
    "from Python_scripts.Data_analysis.plot_feature_barplot import plot_feature_barplot\n",
    "from Python_scripts.Data_analysis.plot_feature_histogram_and_boxplot import plot_feature_histogram_and_boxplot\n"
   ]
  },
  {
   "cell_type": "markdown",
   "id": "7",
   "metadata": {},
   "source": [
    "## Feature barplot"
   ]
  },
  {
   "cell_type": "code",
   "execution_count": null,
   "id": "8",
   "metadata": {},
   "outputs": [],
   "source": [
    "plot_feature_histogram_and_boxplot(conn, 'mean_curv')"
   ]
  },
  {
   "cell_type": "markdown",
   "id": "9",
   "metadata": {},
   "source": [
    "## Feature distribution"
   ]
  },
  {
   "cell_type": "code",
   "execution_count": null,
   "id": "10",
   "metadata": {},
   "outputs": [],
   "source": [
    "import Python_scripts.Data_analysis.plot_feature_distribution\n",
    "importlib.reload(Python_scripts.Data_analysis.plot_feature_distribution)\n",
    "from Python_scripts.Data_analysis.plot_feature_distribution import plot_feature_distribution\n"
   ]
  },
  {
   "cell_type": "code",
   "execution_count": null,
   "id": "11",
   "metadata": {},
   "outputs": [],
   "source": [
    "print(type(FoodOnly_saline_id), type(FoodOnly_saline_id[0]))\n",
    "print(type(FoodOnly_ghrelin_id), type(FoodOnly_ghrelin_id[0]))\n"
   ]
  },
  {
   "cell_type": "code",
   "execution_count": null,
   "id": "12",
   "metadata": {},
   "outputs": [],
   "source": [
    "ax = plot_feature_distribution(conn, FoodOnly_saline_id, FoodOnly_ghrelin_id, feature='mean_curv', \n",
    "                              group_labels=['Saline', 'Ghrelin'], mode='pdf')\n",
    "\n",
    "ax.set_title('Food Only')\n",
    "plt.show()\n"
   ]
  },
  {
   "cell_type": "markdown",
   "id": "13",
   "metadata": {},
   "source": [
    "## Grid plot for feature summary"
   ]
  },
  {
   "cell_type": "code",
   "execution_count": null,
   "id": "14",
   "metadata": {},
   "outputs": [],
   "source": [
    "from Python_scripts.Utility_functions import feature_summary\n",
    "\n",
    "fig, ax = feature_summary.plot_feature_grid(\n",
    "    n_tasks=7,\n",
    "    n_features=4,\n",
    "    task_labels=[\"Combined\", \"NoFoodOnly\", \"FoodOnly\", \"ToyOnly\", \"LightOnly\", \"FoodLight\", \"ToyLight\"],\n",
    "    feature_labels=[\"Curvature\", \"Distance\", \"Angle\", \"Stops\"],\n",
    "    show=True\n",
    ")\n",
    "\n",
    "fig.savefig(\"summary_grid.pdf\", dpi=300)\n"
   ]
  },
  {
   "cell_type": "code",
   "execution_count": null,
   "id": "15",
   "metadata": {},
   "outputs": [],
   "source": [
    "from Python_scripts.Utility_functions import feature_summary_dual as fsd\n",
    "\n",
    "fig, ax = fsd.plot_dual_comparison_grid(\n",
    "    n_tasks=7,\n",
    "    n_features=4,\n",
    "    task_labels=[\"Combined\", \"NoFoodOnly\", \"FoodOnly\", \"ToyOnly\", \"LightOnly\", \"FoodLight\", \"ToyLight\"],\n",
    "    feature_labels=[\"Curvature\",\"Distance\",\"Angle\",\"Stops\"],\n",
    "    show=False\n",
    ")\n",
    "fig.savefig(\"dual_grid_vector.pdf\", dpi=300, bbox_inches=\"tight\")\n"
   ]
  },
  {
   "cell_type": "code",
   "execution_count": null,
   "id": "16",
   "metadata": {},
   "outputs": [],
   "source": []
  }
 ],
 "metadata": {
  "kernelspec": {
   "display_name": "Python 3 (ipykernel)",
   "language": "python",
   "name": "python3"
  },
  "language_info": {
   "codemirror_mode": {
    "name": "ipython",
    "version": 3
   },
   "file_extension": ".py",
   "mimetype": "text/x-python",
   "name": "python",
   "nbconvert_exporter": "python",
   "pygments_lexer": "ipython3",
   "version": "3.10.13"
  }
 },
 "nbformat": 4,
 "nbformat_minor": 5
}
