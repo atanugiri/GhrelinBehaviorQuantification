{
 "cells": [
  {
   "cell_type": "markdown",
   "id": "0",
   "metadata": {},
   "source": [
    "## Add project root"
   ]
  },
  {
   "cell_type": "code",
   "execution_count": null,
   "id": "1",
   "metadata": {},
   "outputs": [],
   "source": [
    "import sys\n",
    "from pathlib import Path\n",
    "import importlib\n",
    "\n",
    "# Add the parent of the *outer* DLC-Jupyter-Notebooks folder to sys.path\n",
    "project_root = Path().resolve().parents[0]  # This is /Users/atanugiri/Downloads/GhrelinBehaviorQuantification\n",
    "print(project_root)\n",
    "sys.path.append(str(project_root))\n"
   ]
  },
  {
   "cell_type": "markdown",
   "id": "2",
   "metadata": {},
   "source": [
    "## Connect to db"
   ]
  },
  {
   "cell_type": "code",
   "execution_count": null,
   "id": "3",
   "metadata": {},
   "outputs": [],
   "source": [
    "import psycopg2\n",
    "import platform\n",
    "\n",
    "host = \"localhost\" if platform.system() == \"Windows\" else \"129.108.49.49\"\n",
    "conn = psycopg2.connect(\n",
    "    dbname=\"deeplabcut_db\", user=\"postgres\", \n",
    "    password=\"1234\", host=host, port=\"5432\")\n",
    "cursor = conn.cursor()\n"
   ]
  },
  {
   "cell_type": "markdown",
   "id": "4",
   "metadata": {},
   "source": [
    "## Fetch id list"
   ]
  },
  {
   "cell_type": "code",
   "execution_count": null,
   "id": "5",
   "metadata": {},
   "outputs": [],
   "source": [
    "import pandas as pd\n",
    "\n",
    "task = 'WhiteAnimals10X_MazeOnly'\n",
    "\n",
    "# IDs to remove\n",
    "bad_id = [549, 559, 566, 567, 570, 571, 595, 617, 621, 638, 640, 36]\n",
    "\n",
    "saline_q = f\"\"\"\n",
    "SELECT id, video_name, task, health, modulation, genotype, trial_length, dose_mult FROM dlc_table \n",
    "WHERE health = 'saline' AND modulation='NA' AND trial_length>599 AND genotype='white' AND dose_mult=10\n",
    "AND task='MazeOnly'\n",
    "ORDER BY id;\n",
    "\"\"\"\n",
    "\n",
    "df = pd.read_sql_query(saline_q, conn)\n",
    "saline_id = df['id'].to_list()\n",
    "\n",
    "# Filter them out\n",
    "saline_id = [i for i in saline_id if i not in bad_id]\n",
    "\n",
    "df.to_csv(\"dlc_table_saline.csv\", index=False)\n",
    "\n",
    "ghrelin_q = f\"\"\"\n",
    "SELECT id, video_name, task, health, genotype, modulation, trial_length, dose_mult FROM dlc_table \n",
    "WHERE health = 'ghrelin' AND modulation='NA' AND trial_length>599 AND genotype='white' AND dose_mult=10\n",
    "AND task='MazeOnly'\n",
    "ORDER BY id;\n",
    "\"\"\"\n",
    "\n",
    "df = pd.read_sql_query(ghrelin_q, conn)\n",
    "ghrelin_id = df['id'].to_list()\n",
    "# Filter them out\n",
    "ghrelin_id = [i for i in ghrelin_id if i not in bad_id]\n",
    "\n",
    "df.to_csv(\"dlc_table_ghrelin.csv\", index=False)\n",
    "\n",
    "# Inh_q = f\"\"\"\n",
    "# SELECT id, video_name, task, health, genotype, modulation, trial_length FROM dlc_table \n",
    "# WHERE modulation='Inhibitory'\n",
    "# ORDER BY id;\n",
    "# \"\"\"\n",
    "# df = pd.read_sql_query(Inh_q, conn)\n",
    "# Inh_id = df['id'].to_list()\n",
    "# Inh_id = [i for i in Inh_id if i not in bad_id]\n",
    "\n",
    "# df.to_csv(\"dlc_table_inhibitory.csv\", index=False)\n",
    "\n",
    "# Exc_q = f\"\"\"\n",
    "# SELECT id, video_name, task, health, genotype, modulation, trial_length FROM dlc_table \n",
    "# WHERE modulation='Excitatory'\n",
    "# ORDER BY id;\n",
    "# \"\"\"\n",
    "# df = pd.read_sql_query(Exc_q, conn)\n",
    "# Exc_id = df['id'].to_list()\n",
    "# Exc_id = [i for i in Exc_id if i not in bad_id]\n",
    "\n",
    "# df.to_csv(\"dlc_table_excitatory.csv\", index=False)\n",
    "\n",
    "print(f\"saline_id: {saline_id}\\n\")\n",
    "print(f\"ghrelin_id: {ghrelin_id}\\n\")\n",
    "# print(f\"Exc_id: {Exc_id}\\n\")\n",
    "# print(f\"Inh_id: {Inh_id}\\n\")\n"
   ]
  },
  {
   "cell_type": "markdown",
   "id": "6",
   "metadata": {},
   "source": [
    "## Calculate distance"
   ]
  },
  {
   "cell_type": "code",
   "execution_count": null,
   "id": "7",
   "metadata": {},
   "outputs": [],
   "source": [
    "import importlib\n",
    "import Python_scripts.Feature_functions.motion_features\n",
    "import Python_scripts.Data_analysis.plot_groupwise_bar\n",
    "import Python_scripts.Data_analysis.compare_distributions\n",
    "\n",
    "importlib.reload(Python_scripts.Feature_functions.motion_features)\n",
    "importlib.reload(Python_scripts.Data_analysis.plot_groupwise_bar)\n",
    "importlib.reload(Python_scripts.Data_analysis.compare_distributions)\n",
    "\n",
    "from Python_scripts.Feature_functions.motion_features import (\n",
    "    compute_motion_features, batch_compute_motion_feature\n",
    ")\n",
    "from Python_scripts.Data_analysis.plot_groupwise_bar import plot_groupwise_bar\n",
    "from Python_scripts.Data_analysis.compare_distributions import compare_distributions\n"
   ]
  },
  {
   "cell_type": "markdown",
   "id": "8",
   "metadata": {},
   "source": [
    "### Distribution of distance per frame"
   ]
  },
  {
   "cell_type": "code",
   "execution_count": null,
   "id": "9",
   "metadata": {},
   "outputs": [],
   "source": [
    "import numpy as np\n",
    "\n",
    "fig, ax = compare_distributions(\n",
    "    np.concatenate(saline_d),\n",
    "    np.concatenate(ghrelin_d),\n",
    "    labels=['Saline', 'Ghrelin'],\n",
    "    kind='cdf'\n",
    ")\n",
    "\n",
    "ax.set_xlim(0, 0.075)\n",
    "ax.set_title(f\"{task}_distance_distribution.pdf\")\n",
    "fig.savefig(f\"{task}_distance_distribution.pdf\", dpi=300, bbox_inches='tight')\n"
   ]
  },
  {
   "cell_type": "markdown",
   "id": "10",
   "metadata": {},
   "source": [
    "### Batch call with different max_time"
   ]
  },
  {
   "cell_type": "code",
   "execution_count": null,
   "id": "11",
   "metadata": {},
   "outputs": [],
   "source": [
    "import numpy as np\n",
    "import os\n",
    "from matplotlib.backends.backend_pdf import PdfPages\n",
    "import matplotlib.pyplot as plt\n",
    "\n",
    "pdf_path = f'{task}_distance_all_time.pdf'\n",
    "with PdfPages(pdf_path) as pdf:\n",
    "    for max_time in range(200, 1400, 200):\n",
    "        print(f\"[INFO] Analyzing max_time = {max_time} seconds\")\n",
    "        \n",
    "        saline_d = batch_compute_motion_feature(conn, saline_id, bodypart='Head', feature='distance', time_limit=max_time)\n",
    "        ghrelin_d = batch_compute_motion_feature(conn, ghrelin_id, bodypart='Head', feature='distance', time_limit=max_time)\n",
    "        # exc_d = batch_compute_motion_feature(conn, Exc_id, bodypart='Head', feature='distance', time_limit=max_time)\n",
    "        # inh_d = batch_compute_motion_feature(conn, Inh_id, bodypart='Head',, feature='distance', time_limit=max_time)\n",
    "\n",
    "        # 1. Total distance per trial\n",
    "        saline_totals = [d.sum() for d in saline_d]\n",
    "        ghrelin_totals = [d.sum() for d in ghrelin_d]\n",
    "        # exc_totals = [d.sum() for d in exc_d]\n",
    "        # inh_totals = [d.sum() for d in inh_d]\n",
    "\n",
    "        # 2. Create DataFrame for plotting\n",
    "        df = pd.DataFrame({\n",
    "            'group': ['Saline'] * len(saline_totals) + ['Ghrelin'] * len(ghrelin_totals) \n",
    "            # + ['Excitatory'] * len(exc_totals) + ['Inhibitory'] * len(inh_totals)\n",
    "            , 'total_distance': saline_totals + ghrelin_totals \n",
    "            # + exc_totals + inh_totals\n",
    "        })\n",
    "        # Plot\n",
    "        fig, ax = plot_groupwise_bar(df, y='total_distance', ylabel='Distance')\n",
    "\n",
    "        ax.set_title(f\"{task} | max_time = {max_time}s\")\n",
    "        pdf.savefig(fig)\n",
    "        plt.close(fig)  # Prevents inline display in notebooks\n",
    "\n",
    "print(f\"[DONE] All plots saved to: {pdf_path}\")\n"
   ]
  },
  {
   "cell_type": "markdown",
   "id": "12",
   "metadata": {},
   "source": [
    "## Single call with different max_time"
   ]
  },
  {
   "cell_type": "code",
   "execution_count": null,
   "id": "13",
   "metadata": {},
   "outputs": [],
   "source": [
    "import numpy as np\n",
    "import os\n",
    "import matplotlib.pyplot as plt\n",
    "\n",
    "max_time = 1200\n",
    "\n",
    "saline_d = batch_compute_motion_feature(conn, saline_id, bodypart='Head', feature='distance', time_limit=max_time)\n",
    "# ghrelin_d = batch_compute_motion_feature(conn, ghrelin_id, bodypart='Head', feature='distance', time_limit=max_time)\n",
    "exc_d = batch_compute_motion_feature(conn, Exc_id, bodypart='Head', feature='distance', time_limit=max_time)\n",
    "inh_d = batch_compute_motion_feature(conn, Inh_id, bodypart='Head', feature='distance', time_limit=max_time)\n",
    "\n",
    "# 1. Total distance per trial\n",
    "saline_totals = [d.sum() for d in saline_d]\n",
    "# ghrelin_totals = [d.sum() for d in ghrelin_d]\n",
    "exc_totals = [d.sum() for d in exc_d]\n",
    "inh_totals = [d.sum() for d in inh_d]\n",
    "\n",
    "# 2. Create DataFrame for plotting\n",
    "df = pd.DataFrame({\n",
    "    'group': \n",
    "    ['Saline'] * len(saline_totals) # + ['Ghrelin'] * len(ghrelin_totals) \n",
    "    + ['Inhibitory'] * len(inh_totals) + ['Excitatory'] * len(exc_totals)\n",
    "    , 'total_distance': \n",
    "    saline_totals + # ghrelin_totals\n",
    "    inh_totals + exc_totals \n",
    "})\n",
    "# Plot\n",
    "fig, ax = plot_groupwise_bar(df, y='total_distance', ylabel='Distance', plot_type='bar', show_points=False)\n",
    "\n",
    "ax.set_title(f\"{task} | max_time = {max_time}s\")\n"
   ]
  },
  {
   "cell_type": "code",
   "execution_count": null,
   "id": "14",
   "metadata": {},
   "outputs": [],
   "source": [
    "ax.set_ylim(0, 120)\n",
    "fig.savefig(f\"{task}_distance_bar.pdf\", dpi=300, bbox_inches='tight')\n"
   ]
  },
  {
   "cell_type": "code",
   "execution_count": null,
   "id": "15",
   "metadata": {},
   "outputs": [],
   "source": [
    "from scipy.stats import ttest_ind\n",
    "\n",
    "# Split data into groups\n",
    "vals1 = df[df['group'] == 'Saline']['total_distance']\n",
    "vals2 = df[df['group'] == 'Inhibitory']['total_distance']\n",
    "vals3 = df[df['group'] == 'Excitatory']['total_distance']\n",
    "\n",
    "# Welch's t-test (no assumption of equal variances)\n",
    "stat, pval = ttest_ind(vals1, vals2, equal_var=False)\n",
    "\n",
    "print(f\"Welch's t-test: t = {stat:.3f}, p = {pval:.5f}\")\n"
   ]
  },
  {
   "cell_type": "code",
   "execution_count": null,
   "id": "16",
   "metadata": {},
   "outputs": [],
   "source": []
  }
 ],
 "metadata": {
  "kernelspec": {
   "display_name": "Python 3 (ipykernel)",
   "language": "python",
   "name": "python3"
  },
  "language_info": {
   "codemirror_mode": {
    "name": "ipython",
    "version": 3
   },
   "file_extension": ".py",
   "mimetype": "text/x-python",
   "name": "python",
   "nbconvert_exporter": "python",
   "pygments_lexer": "ipython3",
   "version": "3.10.13"
  }
 },
 "nbformat": 4,
 "nbformat_minor": 5
}
