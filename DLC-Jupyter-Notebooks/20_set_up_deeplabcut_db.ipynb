{
 "cells": [
  {
   "cell_type": "markdown",
   "id": "0",
   "metadata": {},
   "source": [
    "# Set up deeplabcut database table"
   ]
  },
  {
   "cell_type": "markdown",
   "id": "1",
   "metadata": {},
   "source": [
    "## Connect to database"
   ]
  },
  {
   "cell_type": "code",
   "execution_count": null,
   "id": "2",
   "metadata": {
    "editable": true,
    "slideshow": {
     "slide_type": ""
    },
    "tags": []
   },
   "outputs": [],
   "source": [
    "import os\n",
    "import psycopg2\n",
    "import pandas as pd\n",
    "import platform\n",
    "\n",
    "host = \"localhost\" if platform.system() == \"Windows\" else \"129.108.49.49\"\n",
    "\n",
    "conn = psycopg2.connect(dbname=\"deeplabcut_db\", user=\"postgres\", password=\"1234\", host=host, port=\"5432\")\n",
    "\n",
    "cursor = conn.cursor()\n",
    "\n",
    "print(conn)\n"
   ]
  },
  {
   "cell_type": "markdown",
   "id": "3",
   "metadata": {},
   "source": [
    "## Create table"
   ]
  },
  {
   "cell_type": "code",
   "execution_count": null,
   "id": "4",
   "metadata": {
    "editable": true,
    "slideshow": {
     "slide_type": ""
    },
    "tags": []
   },
   "outputs": [],
   "source": [
    "cursor.execute(\"CREATE TABLE IF NOT EXISTS dlc_table (id SERIAL PRIMARY KEY);\")\n",
    "conn.commit()\n"
   ]
  },
  {
   "cell_type": "markdown",
   "id": "5",
   "metadata": {},
   "source": [
    "## Add other features to the table"
   ]
  },
  {
   "cell_type": "code",
   "execution_count": null,
   "id": "6",
   "metadata": {},
   "outputs": [],
   "source": [
    "# Add new columns to the table (if they don't already exist)\n",
    "alter_commands = [\n",
    "    \"ALTER TABLE dlc_table ADD COLUMN IF NOT EXISTS video_name TEXT\",\n",
    "    \"ALTER TABLE dlc_table ADD COLUMN IF NOT EXISTS num_frames INTEGER\",\n",
    "    \"ALTER TABLE dlc_table ADD COLUMN IF NOT EXISTS frame_rate FLOAT\",\n",
    "    \"ALTER TABLE dlc_table ADD COLUMN IF NOT EXISTS genotype TEXT\",\n",
    "    \"ALTER TABLE dlc_table ADD COLUMN IF NOT EXISTS task TEXT\",\n",
    "    \"ALTER TABLE dlc_table ADD COLUMN IF NOT EXISTS health TEXT\",\n",
    "    \"ALTER TABLE dlc_table ADD COLUMN IF NOT EXISTS name TEXT\",\n",
    "    \"ALTER TABLE dlc_table ADD COLUMN IF NOT EXISTS date TIMESTAMP\",\n",
    "    \"ALTER TABLE dlc_table ADD COLUMN IF NOT EXISTS video_width INTEGER\",\n",
    "    \"ALTER TABLE dlc_table ADD COLUMN IF NOT EXISTS video_height INTEGER\",\n",
    "    \"ALTER TABLE dlc_table ADD COLUMN IF NOT EXISTS csv_file_path TEXT\"\n",
    "]\n",
    "\n",
    "for command in alter_commands:\n",
    "    cursor.execute(command)\n",
    "\n",
    "conn.commit()\n"
   ]
  },
  {
   "cell_type": "code",
   "execution_count": null,
   "id": "7",
   "metadata": {},
   "outputs": [],
   "source": [
    "alter_command = \"ALTER TABLE dlc_table ADD COLUMN IF NOT EXISTS maze_number INTEGER\"\n",
    "cursor.execute(alter_command)\n",
    "conn.commit()\n"
   ]
  },
  {
   "cell_type": "code",
   "execution_count": null,
   "id": "8",
   "metadata": {},
   "outputs": [],
   "source": [
    "# q = \"SELECT * FROM dlc_table LIMIT 1\"\n",
    "# df = pd.read_sql(q, conn)\n",
    "# print(df.columns)\n",
    "\n",
    "q = \"\"\"\n",
    "SELECT id, video_name, num_frames, frame_rate, trial_length, video_width, video_height, \n",
    "genotype, task, health, name, date, maze_number, csv_file_path, modulation\n",
    "FROM dlc_table ORDER BY id \n",
    "\"\"\"\n",
    "\n",
    "df = pd.read_sql(q, conn)\n",
    "df.to_csv(\"dlc_table.csv\", index=False)\n"
   ]
  },
  {
   "cell_type": "code",
   "execution_count": null,
   "id": "9",
   "metadata": {},
   "outputs": [],
   "source": []
  }
 ],
 "metadata": {
  "kernelspec": {
   "display_name": "Python [conda env:base] *",
   "language": "python",
   "name": "conda-base-py"
  },
  "language_info": {
   "codemirror_mode": {
    "name": "ipython",
    "version": 3
   },
   "file_extension": ".py",
   "mimetype": "text/x-python",
   "name": "python",
   "nbconvert_exporter": "python",
   "pygments_lexer": "ipython3",
   "version": "3.12.8"
  }
 },
 "nbformat": 4,
 "nbformat_minor": 5
}
