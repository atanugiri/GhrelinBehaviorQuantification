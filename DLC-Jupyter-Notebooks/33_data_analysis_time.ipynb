{
 "cells": [
  {
   "cell_type": "markdown",
   "id": "0",
   "metadata": {},
   "source": [
    "## Add project root"
   ]
  },
  {
   "cell_type": "code",
   "execution_count": null,
   "id": "1",
   "metadata": {},
   "outputs": [],
   "source": [
    "import sys\n",
    "from pathlib import Path\n",
    "import importlib\n",
    "\n",
    "# Add the parent of the *outer* DLC-Jupyter-Notebooks folder to sys.path\n",
    "project_root = Path().resolve().parents[0]  # This is /Users/atanugiri/Downloads/GhrelinBehaviorQuantification\n",
    "print(project_root)\n",
    "sys.path.append(str(project_root))\n"
   ]
  },
  {
   "cell_type": "markdown",
   "id": "2",
   "metadata": {},
   "source": [
    "## Connect to db"
   ]
  },
  {
   "cell_type": "code",
   "execution_count": null,
   "id": "3",
   "metadata": {},
   "outputs": [],
   "source": [
    "import psycopg2\n",
    "import platform\n",
    "\n",
    "host = \"localhost\" if platform.system() == \"Windows\" else \"129.108.49.49\"\n",
    "conn = psycopg2.connect(\n",
    "    dbname=\"deeplabcut_db\", user=\"postgres\", \n",
    "    password=\"1234\", host=host, port=\"5432\")\n",
    "cursor = conn.cursor()\n"
   ]
  },
  {
   "cell_type": "markdown",
   "id": "4",
   "metadata": {},
   "source": [
    "## Fetch id list"
   ]
  },
  {
   "cell_type": "code",
   "execution_count": null,
   "id": "5",
   "metadata": {},
   "outputs": [],
   "source": [
    "import pandas as pd\n",
    "\n",
    "task = 'Black_animals_toy_light'\n",
    "\n",
    "# IDs to remove\n",
    "bad_id = [549, 559, 566, 567, 570, 571, 595, 617, 621, 638, 640, 36]\n",
    "\n",
    "saline_q = f\"\"\"\n",
    "SELECT id, video_name, task, health, modulation, genotype, trial_length FROM dlc_table \n",
    "WHERE health = 'saline' AND modulation='NA' AND genotype='black' AND task='ToyLight'\n",
    "ORDER BY id;\n",
    "\"\"\"\n",
    "\n",
    "df = pd.read_sql_query(saline_q, conn)\n",
    "saline_id = df['id'].to_list()\n",
    "\n",
    "# Filter them out\n",
    "saline_id = [i for i in saline_id if i not in bad_id]\n",
    "\n",
    "df.to_csv(\"dlc_table_saline_simple.csv\", index=False)\n",
    "\n",
    "ghrelin_q = f\"\"\"\n",
    "SELECT id, video_name, task, health, genotype, modulation, trial_length FROM dlc_table \n",
    "WHERE health = 'ghrelin' AND modulation='NA' AND genotype='black' AND task='ToyLight'\n",
    "ORDER BY id;\n",
    "\"\"\"\n",
    "\n",
    "df = pd.read_sql_query(ghrelin_q, conn)\n",
    "ghrelin_id = df['id'].to_list()\n",
    "# Filter them out\n",
    "ghrelin_id = [i for i in ghrelin_id if i not in bad_id]\n",
    "\n",
    "df.to_csv(\"dlc_table_ghrelin_simple.csv\", index=False)\n",
    "\n",
    "# Inh_q = f\"\"\"\n",
    "# SELECT id, video_name, task, health, genotype, modulation, trial_length FROM dlc_table \n",
    "# WHERE modulation='Inhibitory'\n",
    "# ORDER BY id;\n",
    "# \"\"\"\n",
    "# df = pd.read_sql_query(Inh_q, conn)\n",
    "# Inh_id = df['id'].to_list()\n",
    "# Inh_id = [i for i in Inh_id if i not in bad_id]\n",
    "\n",
    "# df.to_csv(\"dlc_table_inhibitory.csv\", index=False)\n",
    "\n",
    "# Exc_q = f\"\"\"\n",
    "# SELECT id, video_name, task, health, genotype, modulation, trial_length FROM dlc_table \n",
    "# WHERE modulation='Excitatory'\n",
    "# ORDER BY id;\n",
    "# \"\"\"\n",
    "# df = pd.read_sql_query(Exc_q, conn)\n",
    "# Exc_id = df['id'].to_list()\n",
    "# Exc_id = [i for i in Exc_id if i not in bad_id]\n",
    "\n",
    "# df.to_csv(\"dlc_table_excitatory.csv\", index=False)\n",
    "\n",
    "print(f\"saline_id: {saline_id}\\n\")\n",
    "print(f\"ghrelin_id: {ghrelin_id}\\n\")\n",
    "# print(f\"Exc_id: {Exc_id}\\n\")\n",
    "# print(f\"Inh_id: {Inh_id}\\n\")\n"
   ]
  },
  {
   "cell_type": "markdown",
   "id": "6",
   "metadata": {},
   "source": [
    "## Calculate time in ROI"
   ]
  },
  {
   "cell_type": "code",
   "execution_count": null,
   "id": "7",
   "metadata": {},
   "outputs": [],
   "source": [
    "import importlib\n",
    "import Python_scripts.Feature_functions.time_in_maze_regions\n",
    "import Python_scripts.Data_analysis.plot_groupwise_bar\n",
    "import Python_scripts.Data_analysis.compare_distributions\n",
    "\n",
    "importlib.reload(Python_scripts.Feature_functions.time_in_maze_regions)\n",
    "importlib.reload(Python_scripts.Data_analysis.plot_groupwise_bar)\n",
    "importlib.reload(Python_scripts.Data_analysis.compare_distributions)\n",
    "\n",
    "from Python_scripts.Feature_functions.time_in_maze_regions import (\n",
    "    compute_time_in_maze_regions, batch_time_in_maze_regions\n",
    ")\n",
    "from Python_scripts.Data_analysis.plot_groupwise_bar import plot_groupwise_bar\n",
    "from Python_scripts.Data_analysis.compare_distributions import compare_distributions\n"
   ]
  },
  {
   "cell_type": "markdown",
   "id": "8",
   "metadata": {},
   "source": [
    "## Analysis  "
   ]
  },
  {
   "cell_type": "code",
   "execution_count": null,
   "id": "9",
   "metadata": {},
   "outputs": [],
   "source": [
    "import numpy as np\n",
    "import os\n",
    "import matplotlib.pyplot as plt\n",
    "\n",
    "saline_time = batch_time_in_maze_regions(\n",
    "    conn, saline_id, bodypart='Head', shape = 'square', \n",
    "    size = 0.5, return_fraction = True, plot_maze = False)\n",
    "ghrelin_time = batch_time_in_maze_regions(\n",
    "    conn, ghrelin_id, bodypart='Head', shape = 'square', \n",
    "    size = 0.5, return_fraction = True, plot_maze = False)\n",
    "\n",
    "# Add group column to each\n",
    "saline_time['group'] = 'Saline'\n",
    "ghrelin_time['group'] = 'Ghrelin'\n",
    "# exc_time['group'] = 'Excitatory'\n",
    "# inh_time['group'] = 'Inhibitory'\n",
    "\n",
    "# Concatenate into one DataFrame\n",
    "df_time = pd.concat([saline_time, ghrelin_time], ignore_index=True)\n",
    "\n",
    "# Reorder columns so 'group' comes first\n",
    "df_time = df_time[['group', 'corner_total', 'center', 'task_specific_corner', 'trial_id']]\n",
    "\n",
    "# Plot\n",
    "fig, ax = plot_groupwise_bar(df_time, y='corner_total', ylabel='Fr. of time in corner', plot_type='bar', show_points=False)\n",
    "\n",
    "ax.set_title(f\"{task}\")\n"
   ]
  },
  {
   "cell_type": "code",
   "execution_count": null,
   "id": "10",
   "metadata": {},
   "outputs": [],
   "source": [
    "ax.set_ylim(0, 1)\n",
    "fig.savefig(f\"{task}_time_bar.pdf\", dpi=300, bbox_inches='tight')\n"
   ]
  },
  {
   "cell_type": "code",
   "execution_count": null,
   "id": "11",
   "metadata": {},
   "outputs": [],
   "source": [
    "from scipy.stats import ttest_ind\n",
    "\n",
    "# Split data into groups\n",
    "vals1 = df[df['group'] == 'Saline']['total_distance']\n",
    "vals2 = df[df['group'] == 'Inhibitory']['total_distance']\n",
    "vals3 = df[df['group'] == 'Excitatory']['total_distance']\n",
    "\n",
    "# Welch's t-test (no assumption of equal variances)\n",
    "stat, pval = ttest_ind(vals1, vals2, equal_var=False)\n",
    "\n",
    "print(f\"Welch's t-test: t = {stat:.3f}, p = {pval:.5f}\")\n"
   ]
  },
  {
   "cell_type": "markdown",
   "id": "12",
   "metadata": {},
   "source": [
    "## Batch call with different size of corner"
   ]
  },
  {
   "cell_type": "code",
   "execution_count": null,
   "id": "13",
   "metadata": {},
   "outputs": [],
   "source": [
    "import numpy as np\n",
    "import pandas as pd\n",
    "import matplotlib.pyplot as plt\n",
    "from matplotlib.backends.backend_pdf import PdfPages\n",
    "\n",
    "sizes = [round(s, 1) for s in np.arange(0.1, 0.71, 0.1)]  # 0.1, 0.2, ..., 0.5\n",
    "\n",
    "with PdfPages(f\"{task}_corner_sweep.pdf\") as pdf:\n",
    "    for size in sizes:\n",
    "        # Compute group data for this size\n",
    "        saline_time = batch_time_in_maze_regions(\n",
    "            conn, saline_id, bodypart='Head', shape='square',\n",
    "            size=size, return_fraction=True, plot_maze=False\n",
    "        )\n",
    "        ghrelin_time = batch_time_in_maze_regions(\n",
    "            conn, ghrelin_id, bodypart='Head', shape='square',\n",
    "            size=size, return_fraction=True, plot_maze=False\n",
    "        )\n",
    "\n",
    "        # Tag groups & combine\n",
    "        saline_time['group'] = 'Saline'\n",
    "        ghrelin_time['group'] = 'Ghrelin'\n",
    "        df_time = pd.concat([saline_time, ghrelin_time], ignore_index=True)\n",
    "\n",
    "        # Reorder columns so 'group' comes first\n",
    "        df_time = df_time[['group', 'corner_total', 'center', 'task_specific_corner', 'trial_id']]\n",
    "\n",
    "        # Plot this size\n",
    "        fig, ax = plot_groupwise_bar(\n",
    "            df_time, y='task_specific_corner',\n",
    "            ylabel='Fr. of time in corner',\n",
    "            plot_type='bar', show_points=False\n",
    "        )\n",
    "        ax.set_title(f\"{task} | square size = {size:.1f}\")\n",
    "        ax.set_ylim(0, 1)  # fractions\n",
    "\n",
    "        # Save page to the PDF and close the figure\n",
    "        pdf.savefig(fig, bbox_inches='tight')\n",
    "        plt.close(fig)\n",
    "\n",
    "print(f\"[✓] Saved {task}_corner_sweep.pdf\")\n"
   ]
  },
  {
   "cell_type": "code",
   "execution_count": null,
   "id": "14",
   "metadata": {},
   "outputs": [],
   "source": []
  }
 ],
 "metadata": {
  "kernelspec": {
   "display_name": "Python 3 (ipykernel)",
   "language": "python",
   "name": "python3"
  },
  "language_info": {
   "codemirror_mode": {
    "name": "ipython",
    "version": 3
   },
   "file_extension": ".py",
   "mimetype": "text/x-python",
   "name": "python",
   "nbconvert_exporter": "python",
   "pygments_lexer": "ipython3",
   "version": "3.10.13"
  }
 },
 "nbformat": 4,
 "nbformat_minor": 5
}
