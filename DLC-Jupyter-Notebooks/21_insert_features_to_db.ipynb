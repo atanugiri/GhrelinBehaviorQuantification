{
 "cells": [
  {
   "cell_type": "markdown",
   "id": "0",
   "metadata": {},
   "source": [
    "## Connect to database"
   ]
  },
  {
   "cell_type": "code",
   "execution_count": null,
   "id": "1",
   "metadata": {
    "editable": true,
    "slideshow": {
     "slide_type": ""
    },
    "tags": []
   },
   "outputs": [],
   "source": [
    "import os\n",
    "import psycopg2\n",
    "import pandas as pd\n",
    "import platform\n",
    "\n",
    "host = \"localhost\" if platform.system() == \"Windows\" else \"129.108.49.49\"\n",
    "\n",
    "conn = psycopg2.connect(dbname=\"deeplabcut_db\", user=\"postgres\", password=\"1234\", host=host, port=\"5432\")\n",
    "\n",
    "cursor = conn.cursor()\n"
   ]
  },
  {
   "cell_type": "markdown",
   "id": "2",
   "metadata": {},
   "source": [
    "## Code to Add All Subdirs of \"Python_scripts\" to sys.path"
   ]
  },
  {
   "cell_type": "code",
   "execution_count": null,
   "id": "3",
   "metadata": {},
   "outputs": [],
   "source": [
    "import sys\n",
    "from pathlib import Path\n",
    "\n",
    "# Add Python_scripts to sys.path (parent of Extract_db_columns)\n",
    "scripts_dir = Path().resolve().parents[0] / \"Python_scripts\"\n",
    "sys.path.append(str(scripts_dir))\n",
    "\n",
    "# Add the *project root* to sys.path (i.e., the parent of Python_scripts)\n",
    "project_root = Path().resolve().parents[0]  # Adjust if notebook is nested deeper\n",
    "sys.path.append(str(project_root))\n"
   ]
  },
  {
   "cell_type": "code",
   "execution_count": null,
   "id": "4",
   "metadata": {},
   "outputs": [],
   "source": [
    "# # cursor.execute(\"DELETE FROM dlc_table WHERE id = %s;\", (532,))\n",
    "\n",
    "# # conn.commit()\n",
    "\n",
    "# cursor.execute(\"\"\"\n",
    "#     UPDATE dlc_table\n",
    "#     SET video_name = %s\n",
    "#     WHERE id = %s;\n",
    "# \"\"\", ('ToyLightInhibitory_1_22_25_S4P_P.mp4', 533))\n",
    "\n",
    "# conn.commit()\n"
   ]
  },
  {
   "cell_type": "markdown",
   "id": "5",
   "metadata": {},
   "source": [
    "## Insert video file names (Run this from the computer where the videos are located)"
   ]
  },
  {
   "cell_type": "code",
   "execution_count": null,
   "id": "6",
   "metadata": {},
   "outputs": [],
   "source": [
    "from pathlib import Path\n",
    "\n",
    "project_root = Path.home() / \"Downloads\" / \"DeepLabCutProjects\" / \"data\"\n",
    "base_folder = project_root.joinpath(\"WhiteAnimals\", \"10X\", \"ToyLight\", \"SplitVideos\")\n",
    "\n",
    "print(f\"Looking in: {base_folder}, Exists? {base_folder.exists()}\")\n",
    "\n",
    "# Collect video files\n",
    "video_files = list(base_folder.rglob(\"*.mp4\")) + list(base_folder.rglob(\"*.avi\"))\n",
    "\n",
    "# Create relative path or name\n",
    "video_records = [(vf.name,) for vf in video_files]\n",
    "\n",
    "# Get existing entries\n",
    "cursor.execute(\"SELECT video_name FROM dlc_table;\")\n",
    "existing = set(row[0] for row in cursor.fetchall())\n",
    "\n",
    "# Filter only new\n",
    "new_records = [vr for vr in video_records if vr[0] not in existing]\n",
    "\n",
    "# Insert\n",
    "if new_records:\n",
    "    insert_query = \"INSERT INTO dlc_table (video_name) VALUES (%s);\"\n",
    "    cursor.executemany(insert_query, new_records)\n",
    "    conn.commit()\n",
    "    print(f\"Inserted {len(new_records)} new videos.\")\n",
    "else:\n",
    "    print(\"No new videos to insert.\")\n"
   ]
  },
  {
   "cell_type": "markdown",
   "id": "7",
   "metadata": {},
   "source": [
    "## Insert task, date_str, name, health, id_ in dlc_table"
   ]
  },
  {
   "cell_type": "code",
   "execution_count": null,
   "id": "8",
   "metadata": {},
   "outputs": [],
   "source": [
    "import importlib\n",
    "import Extract_db_columns.parse_video_name\n",
    "importlib.reload(Extract_db_columns.parse_video_name)\n",
    "from Extract_db_columns.parse_video_name import parse_video_name\n",
    "\n",
    "cursor.execute(\"SELECT id, video_name FROM dlc_table WHERE video_name IS NOT NULL AND task IS NULL;\")\n",
    "rows = cursor.fetchall()\n",
    "\n",
    "updates = []\n",
    "\n",
    "for row in rows:\n",
    "    id_, video_name = row\n",
    "    task, date_str, name, health = parse_video_name(video_name)\n",
    "    updates.append((task, date_str, name, health, id_))\n",
    "\n",
    "# Update in batch\n",
    "cursor.executemany(\"\"\"\n",
    "UPDATE dlc_table\n",
    "SET task = %s, date = %s, name = %s, health = %s\n",
    "WHERE id = %s;\n",
    "\"\"\", updates)\n",
    "\n",
    "conn.commit()\n"
   ]
  },
  {
   "cell_type": "markdown",
   "id": "9",
   "metadata": {},
   "source": [
    "## Insert num_frames, frame_rate, video_width, video_height"
   ]
  },
  {
   "cell_type": "code",
   "execution_count": null,
   "id": "10",
   "metadata": {},
   "outputs": [],
   "source": [
    "import importlib\n",
    "import Extract_db_columns.update_video_info\n",
    "\n",
    "importlib.reload(Extract_db_columns.update_video_info)\n",
    "from Extract_db_columns.update_video_info import update_video_info_in_db\n",
    "\n",
    "# Call the function with subdirectory\n",
    "base_video_dir = Path.home() / \"Downloads\" / \"DeepLabCutProjects\" / \"data\"\n",
    "video_subdir = \"WhiteAnimals/10X/ToyLight\"\n",
    "\n",
    "update_video_info_in_db(conn, base_video_dir, video_subdir)\n"
   ]
  },
  {
   "cell_type": "markdown",
   "id": "11",
   "metadata": {},
   "source": [
    "## Insert trial_length"
   ]
  },
  {
   "cell_type": "code",
   "execution_count": null,
   "id": "12",
   "metadata": {},
   "outputs": [],
   "source": [
    "import importlib\n",
    "import Extract_db_columns.insert_trial_length\n",
    "\n",
    "importlib.reload(Extract_db_columns.insert_trial_length)\n",
    "from Extract_db_columns.insert_trial_length import insert_trial_length\n",
    "\n",
    "query = \"SELECT id FROM dlc_table WHERE trial_length IS NULL ORDER BY id\"\n",
    "\n",
    "df = pd.read_sql_query(query, conn)\n",
    "id_list = df['id'].to_list()\n",
    "\n",
    "insert_trial_length(id_list, conn)\n"
   ]
  },
  {
   "cell_type": "markdown",
   "id": "13",
   "metadata": {},
   "source": [
    "## Insert genotype"
   ]
  },
  {
   "cell_type": "code",
   "execution_count": null,
   "id": "14",
   "metadata": {},
   "outputs": [],
   "source": [
    "cursor = conn.cursor()\n",
    "cursor.execute(\"UPDATE dlc_table SET genotype = 'white' WHERE genotype is NULL\")\n",
    "conn.commit()\n"
   ]
  },
  {
   "cell_type": "markdown",
   "id": "15",
   "metadata": {},
   "source": [
    "## Insert maze_number"
   ]
  },
  {
   "cell_type": "code",
   "execution_count": null,
   "id": "16",
   "metadata": {
    "jupyter": {
     "outputs_hidden": true
    }
   },
   "outputs": [],
   "source": [
    "from Extract_db_columns.extract_maze_number import (\n",
    "    load_mother_videos, build_prefix_to_animal_map, get_maze_number, update_maze_numbers_in_db\n",
    ")\n",
    "\n",
    "raw_video_dirs = [\n",
    "    \"/Users/atanugiri/Downloads/DeepLabCutProjects/data/WhiteAnimals/10X/LightOnly/RawVideos\"\n",
    "]\n",
    "\n",
    "mother_videos = load_mother_videos(raw_video_dirs)\n",
    "prefix_to_animals = build_prefix_to_animal_map(mother_videos)\n",
    "\n",
    "update_maze_numbers_in_db(conn, \"dlc_table\", prefix_to_animals)\n"
   ]
  },
  {
   "cell_type": "markdown",
   "id": "17",
   "metadata": {},
   "source": [
    "## Insert csv_file_path"
   ]
  },
  {
   "cell_type": "code",
   "execution_count": null,
   "id": "18",
   "metadata": {
    "jupyter": {
     "outputs_hidden": true
    }
   },
   "outputs": [],
   "source": [
    "import importlib\n",
    "from tqdm import tqdm\n",
    "\n",
    "import Python_scripts.Extract_db_columns.find_csv_for_video as find_mod\n",
    "importlib.reload(find_mod)\n",
    "from Python_scripts.Extract_db_columns.find_csv_for_video import find_csv_for_video\n",
    "\n",
    "# Query for 'FoodOnly%' tasks\n",
    "query = \"\"\"\n",
    "SELECT id, video_name\n",
    "FROM dlc_table\n",
    "WHERE task='LightOnly' AND genotype='white' AND frame_rate IS NOT NULL AND dose_mult=10\n",
    "ORDER BY id;\n",
    "\"\"\"\n",
    "df = pd.read_sql_query(query, conn)\n",
    "# df.to_csv(\"dlc_table_FoodOnly.csv\", index=False)\n",
    "\n",
    "# Directory to search\n",
    "dir_to_search = (Path.home() / \"Downloads\" / \"DeepLabCutProjects\" / \"data\" / \"WhiteAnimals\" / \n",
    "                  \"10X\" / \"LightOnly\" / \"DlcDataPytorchFiltered\")\n",
    "\n",
    "# Loop and update\n",
    "for _, row in tqdm(df.iterrows(), total=len(df), desc=\"Inserting CSV path for LightOnly\"):\n",
    "    video_id = row[\"id\"]\n",
    "    video_name = row[\"video_name\"]\n",
    "    csv_path = find_csv_for_video(video_name, dir_to_search)\n",
    "    print(csv_path)\n",
    "\n",
    "    if csv_path:\n",
    "        cursor.execute(\n",
    "            \"UPDATE dlc_table SET csv_file_path = %s WHERE id = %s;\",\n",
    "            (csv_path, video_id)\n",
    "        )\n",
    "    else:\n",
    "        print(f\"❌ No CSV found for {video_name}\")\n",
    "\n",
    "conn.commit()\n"
   ]
  },
  {
   "cell_type": "markdown",
   "id": "19",
   "metadata": {},
   "source": [
    "## Add modulation column"
   ]
  },
  {
   "cell_type": "code",
   "execution_count": null,
   "id": "20",
   "metadata": {},
   "outputs": [],
   "source": [
    "SQLS = [\n",
    "    \"ALTER TABLE dlc_table ADD COLUMN IF NOT EXISTS modulation TEXT;\",\n",
    "    \"\"\"\n",
    "    UPDATE dlc_table\n",
    "    SET modulation = 'Inhibitory',\n",
    "        task = TRIM(REPLACE(task, 'Inhibitory', ''))\n",
    "    WHERE task ILIKE '%Inhibitory';\n",
    "    \"\"\",\n",
    "    \"\"\"\n",
    "    UPDATE dlc_table\n",
    "    SET modulation = 'Excitatory',\n",
    "        task = TRIM(REPLACE(task, 'Excitatory', ''))\n",
    "    WHERE task ILIKE '%Excitatory';\n",
    "    \"\"\",\n",
    "    \"UPDATE dlc_table SET modulation = 'NA' WHERE modulation IS NULL;\",\n",
    "]\n",
    "\n",
    "try:\n",
    "    for stmt in SQLS:\n",
    "        cursor.execute(stmt)\n",
    "    conn.commit()\n",
    "    print(\"Done.\")\n"
   ]
  },
  {
   "cell_type": "markdown",
   "id": "21",
   "metadata": {},
   "source": [
    "## Add dose_mult"
   ]
  },
  {
   "cell_type": "code",
   "execution_count": null,
   "id": "22",
   "metadata": {},
   "outputs": [],
   "source": [
    "SQL = \"UPDATE dlc_table SET dose_mult=10 WHERE dose_mult IS NULL\"\n",
    "cursor.execute(SQL)\n",
    "conn.commit()\n"
   ]
  },
  {
   "cell_type": "markdown",
   "id": "23",
   "metadata": {},
   "source": [
    "### Completely Clear Table First (CAREFUL)"
   ]
  },
  {
   "cell_type": "code",
   "execution_count": null,
   "id": "24",
   "metadata": {},
   "outputs": [],
   "source": [
    "cursor.execute(\"DELETE FROM dlc_files\")\n",
    "conn.commit()\n",
    "print(\"All entries deleted from dlc_files.\")\n",
    "# conn.rollback()"
   ]
  }
 ],
 "metadata": {
  "kernelspec": {
   "display_name": "Python 3 (ipykernel)",
   "language": "python",
   "name": "python3"
  },
  "language_info": {
   "codemirror_mode": {
    "name": "ipython",
    "version": 3
   },
   "file_extension": ".py",
   "mimetype": "text/x-python",
   "name": "python",
   "nbconvert_exporter": "python",
   "pygments_lexer": "ipython3",
   "version": "3.10.13"
  }
 },
 "nbformat": 4,
 "nbformat_minor": 5
}
